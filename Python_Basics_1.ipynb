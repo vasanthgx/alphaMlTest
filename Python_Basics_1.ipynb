{
 "cells": [
  {
   "cell_type": "markdown",
   "metadata": {
    "id": "LsUei3nSU2xa"
   },
   "source": [
    "https://www.w3schools.com/python/default.asp"
   ]
  },
  {
   "cell_type": "markdown",
   "metadata": {
    "id": "KHyQ9w_SVJAF"
   },
   "source": [
    "### Printing & Variables"
   ]
  },
  {
   "cell_type": "code",
   "execution_count": 2,
   "metadata": {
    "colab": {
     "base_uri": "https://localhost:8080/"
    },
    "id": "NsCTV5vlUHHI",
    "outputId": "73a5610d-4ef3-4b53-a686-8de5ae6ae93b"
   },
   "outputs": [
    {
     "name": "stdout",
     "output_type": "stream",
     "text": [
      "Hello World 123423&&%%%4\n"
     ]
    }
   ],
   "source": [
    "print(\"Hello World 123423&&%%%4\")"
   ]
  },
  {
   "cell_type": "code",
   "execution_count": 3,
   "metadata": {
    "colab": {
     "base_uri": "https://localhost:8080/"
    },
    "id": "CosTRVOKU3Qk",
    "outputId": "552d3a3d-b77f-415b-8c68-2dca2c561ff6"
   },
   "outputs": [
    {
     "name": "stdout",
     "output_type": "stream",
     "text": [
      "Hello\n"
     ]
    }
   ],
   "source": [
    "print('Hello')"
   ]
  },
  {
   "cell_type": "code",
   "execution_count": 8,
   "metadata": {
    "colab": {
     "base_uri": "https://localhost:8080/"
    },
    "id": "b36nn2sCViR5",
    "outputId": "2aa21596-9fb7-46d9-8628-6acd8eda200c"
   },
   "outputs": [
    {
     "name": "stdout",
     "output_type": "stream",
     "text": [
      "Variables: 2 3.5 True Hello\n"
     ]
    }
   ],
   "source": [
    "# Variables\n",
    "# sdfsdfsd\n",
    "\"\"\"\n",
    "sbndkfjsdjf\n",
    "sdfbkjsdnjfl\n",
    "sdfnskdjf\n",
    "\"\"\"\n",
    "\n",
    "a = 2\n",
    "b = 3.5\n",
    "c = True\n",
    "A = \"Hello\"\n",
    "\n",
    "print('Variables:', a, b, c, A)"
   ]
  },
  {
   "cell_type": "code",
   "execution_count": 10,
   "metadata": {
    "colab": {
     "base_uri": "https://localhost:8080/"
    },
    "id": "Nbxt3HvHVnz0",
    "outputId": "bd990606-fa1f-4352-dd2d-346c63d5c490"
   },
   "outputs": [
    {
     "name": "stdout",
     "output_type": "stream",
     "text": [
      "Earlier Type: <class 'int'>\n",
      "New Type: <class 'str'>\n"
     ]
    }
   ],
   "source": [
    "# Typecasting\n",
    "print('Earlier Type:', type(a))\n",
    "a = str(a)\n",
    "\n",
    "print('New Type:', type(a))"
   ]
  },
  {
   "cell_type": "code",
   "execution_count": null,
   "metadata": {
    "id": "w_l0eem_XAC5"
   },
   "outputs": [],
   "source": [
    "x = str(3)    # x will be '3'\n",
    "y = int(3)    # y will be 3\n",
    "z = float(3)  # z will be 3.0"
   ]
  },
  {
   "cell_type": "code",
   "execution_count": 12,
   "metadata": {
    "colab": {
     "base_uri": "https://localhost:8080/"
    },
    "id": "s5Zc2_eBXnnQ",
    "outputId": "39e658a6-e1ee-48da-b595-88c2401c219f"
   },
   "outputs": [
    {
     "name": "stdout",
     "output_type": "stream",
     "text": [
      "3.5\n",
      "Interesting!\n"
     ]
    }
   ],
   "source": [
    "print(b)\n",
    "b = 'Interesting!'\n",
    "print(b)"
   ]
  },
  {
   "cell_type": "code",
   "execution_count": null,
   "metadata": {
    "id": "hTqQT-OvXvEw"
   },
   "outputs": [],
   "source": []
  },
  {
   "cell_type": "markdown",
   "metadata": {
    "id": "OlRUHw5xYA_Q"
   },
   "source": [
    "### Indentation"
   ]
  },
  {
   "cell_type": "code",
   "execution_count": 13,
   "metadata": {
    "colab": {
     "base_uri": "https://localhost:8080/"
    },
    "id": "aFSmdv_yYDqy",
    "outputId": "fedb0fb4-d48a-40fb-c0ad-fcaacfb87c3a"
   },
   "outputs": [
    {
     "name": "stdout",
     "output_type": "stream",
     "text": [
      "First number3\n",
      "Second number7\n",
      "Pick the operation: +, -, **\n"
     ]
    }
   ],
   "source": [
    "# Build a calculator\n",
    "# Input: x, y, operation {*, +, -}\n",
    "# Output: Number or 'Invalid'\n",
    "\n",
    "x = input(\"First number\")\n",
    "y = input(\"Second number\")\n",
    "op = input(\"Pick the operation: +, -, *\")"
   ]
  },
  {
   "cell_type": "code",
   "execution_count": 14,
   "metadata": {
    "colab": {
     "base_uri": "https://localhost:8080/"
    },
    "id": "DT2-jttmYhTI",
    "outputId": "186419e9-50ee-4223-bfa7-e6d40f5b474c"
   },
   "outputs": [
    {
     "name": "stdout",
     "output_type": "stream",
     "text": [
      "<class 'str'>\n"
     ]
    }
   ],
   "source": [
    "print(type(x))"
   ]
  },
  {
   "cell_type": "code",
   "execution_count": 16,
   "metadata": {
    "colab": {
     "base_uri": "https://localhost:8080/"
    },
    "id": "NkXGtjybYqKY",
    "outputId": "16689d55-4169-49fe-bd74-57eff05fc0d7"
   },
   "outputs": [
    {
     "name": "stdout",
     "output_type": "stream",
     "text": [
      "<class 'int'> <class 'int'>\n"
     ]
    }
   ],
   "source": [
    "x = int(x)\n",
    "y = int(y)\n",
    "print(type(x), type(y))"
   ]
  },
  {
   "cell_type": "code",
   "execution_count": 17,
   "metadata": {
    "id": "CnQDjC06Y0QY"
   },
   "outputs": [],
   "source": [
    "if op == '*':\n",
    "  output = x * y\n",
    "elif op == '+':\n",
    "  output = x + y\n",
    "elif op == '-':\n",
    "  output = x - y\n",
    "else:\n",
    "  output = \"Invalid\""
   ]
  },
  {
   "cell_type": "code",
   "execution_count": 18,
   "metadata": {
    "colab": {
     "base_uri": "https://localhost:8080/"
    },
    "id": "IO5SR9RlaPu9",
    "outputId": "88ebdd86-4a91-4181-e50c-d237c914a059"
   },
   "outputs": [
    {
     "name": "stdout",
     "output_type": "stream",
     "text": [
      "Output:  21\n"
     ]
    }
   ],
   "source": [
    "print('Output: ', output)"
   ]
  },
  {
   "cell_type": "code",
   "execution_count": null,
   "metadata": {
    "id": "AvEiR7W4aa6Q"
   },
   "outputs": [],
   "source": []
  },
  {
   "cell_type": "markdown",
   "metadata": {
    "id": "ydEZcnWtanzk"
   },
   "source": [
    "### Looping"
   ]
  },
  {
   "cell_type": "code",
   "execution_count": 20,
   "metadata": {
    "colab": {
     "base_uri": "https://localhost:8080/"
    },
    "id": "Ys4aqtSJao2Q",
    "outputId": "434c6ce6-d7db-4ccd-f0b7-74f69bb9abfb"
   },
   "outputs": [
    {
     "name": "stdout",
     "output_type": "stream",
     "text": [
      "0\n",
      "2\n",
      "4\n",
      "6\n",
      "8\n",
      "10\n",
      "12\n",
      "14\n",
      "16\n",
      "18\n",
      "20\n",
      "22\n",
      "24\n",
      "26\n",
      "28\n"
     ]
    }
   ],
   "source": [
    "# Print all event numbers under 30\n",
    "# 0-index\n",
    "# %\n",
    "# range(10) : 0 to 9\n",
    "# range(2, 10)\n",
    "\n",
    "\n",
    "for i in range(30):\n",
    "  if i % 2 == 0:\n",
    "    print(i)"
   ]
  },
  {
   "cell_type": "code",
   "execution_count": null,
   "metadata": {
    "id": "3bKvzpHxbqQO"
   },
   "outputs": [],
   "source": []
  },
  {
   "cell_type": "markdown",
   "metadata": {
    "id": "EZ_2kvKgcUF2"
   },
   "source": [
    "### Operators"
   ]
  },
  {
   "cell_type": "code",
   "execution_count": null,
   "metadata": {
    "id": "4qu5tYjrcVMV"
   },
   "outputs": [],
   "source": [
    "\"\"\"\n",
    "+, -, *, /, %, **, //\n",
    ">, <, ==, >=, <=, !=\n",
    "\n",
    "Eg: if x> 5 and x < 10\n",
    "\n",
    "and, or, not\n",
    "\"\"\""
   ]
  },
  {
   "cell_type": "code",
   "execution_count": 21,
   "metadata": {
    "colab": {
     "base_uri": "https://localhost:8080/"
    },
    "id": "m1vEL59sc9Oc",
    "outputId": "b48ee938-c9f7-4b44-c199-5e1cda2fc0b3"
   },
   "outputs": [
    {
     "name": "stdout",
     "output_type": "stream",
     "text": [
      "7\n"
     ]
    }
   ],
   "source": [
    "x = 2\n",
    "x = x + 5\n",
    "print(x)"
   ]
  },
  {
   "cell_type": "code",
   "execution_count": 22,
   "metadata": {
    "colab": {
     "base_uri": "https://localhost:8080/"
    },
    "id": "DSG3P_vPdCax",
    "outputId": "62886f5e-4fea-45eb-d149-108d17f106de"
   },
   "outputs": [
    {
     "name": "stdout",
     "output_type": "stream",
     "text": [
      "Earlier  7\n",
      "Later  12\n"
     ]
    }
   ],
   "source": [
    "print('Earlier ', x)\n",
    "x += 5\n",
    "print('Later ', x)"
   ]
  },
  {
   "cell_type": "code",
   "execution_count": null,
   "metadata": {
    "id": "hK7PYtqwdMqz"
   },
   "outputs": [],
   "source": [
    "# Shorthand: x *= 5"
   ]
  },
  {
   "cell_type": "markdown",
   "metadata": {
    "id": "eQomX_qCdYYO"
   },
   "source": [
    "### Data Structures"
   ]
  },
  {
   "cell_type": "code",
   "execution_count": 24,
   "metadata": {
    "id": "kAfmTYfSdZq1"
   },
   "outputs": [],
   "source": [
    "# list\n",
    "l = [1, 7, 3, 3]\n",
    "L = [1, \"hey\", True, \"yo yo\", 5.7]"
   ]
  },
  {
   "cell_type": "code",
   "execution_count": 25,
   "metadata": {
    "colab": {
     "base_uri": "https://localhost:8080/"
    },
    "id": "b7tccLcudrTZ",
    "outputId": "a6b2cbab-48ea-4422-ff6a-a840c5817e1a"
   },
   "outputs": [
    {
     "name": "stdout",
     "output_type": "stream",
     "text": [
      "1\n",
      "hey\n",
      "True\n",
      "yo yo\n",
      "5.7\n"
     ]
    }
   ],
   "source": [
    "# Iterate\n",
    "for i in L:\n",
    "  print(i)"
   ]
  },
  {
   "cell_type": "code",
   "execution_count": 28,
   "metadata": {
    "colab": {
     "base_uri": "https://localhost:8080/"
    },
    "id": "MNaYXYa_dwR4",
    "outputId": "1e65e556-83bb-4ec8-98d3-48553c94231d"
   },
   "outputs": [
    {
     "name": "stdout",
     "output_type": "stream",
     "text": [
      "['meow', 'hey', True, 'yo yo', 5.7]\n"
     ]
    }
   ],
   "source": [
    "L[0] = \"meow\"\n",
    "print(L)"
   ]
  },
  {
   "cell_type": "code",
   "execution_count": 29,
   "metadata": {
    "colab": {
     "base_uri": "https://localhost:8080/"
    },
    "id": "4gEBvMY2d3av",
    "outputId": "57b5ca39-16b1-4eca-bca6-0481c7fe9a1f"
   },
   "outputs": [
    {
     "name": "stdout",
     "output_type": "stream",
     "text": [
      "['meow', 'hey', True, 'yo yo', 5.7, 22]\n"
     ]
    }
   ],
   "source": [
    "L.append(22)\n",
    "print(L)"
   ]
  },
  {
   "cell_type": "code",
   "execution_count": 30,
   "metadata": {
    "colab": {
     "base_uri": "https://localhost:8080/"
    },
    "id": "If2wvpKueP4x",
    "outputId": "77f69332-85cf-4929-bbb6-d7da1d9bf202"
   },
   "outputs": [
    {
     "name": "stdout",
     "output_type": "stream",
     "text": [
      "[1, 3, 3, 7]\n"
     ]
    }
   ],
   "source": [
    "l.sort()\n",
    "print(l)"
   ]
  },
  {
   "cell_type": "code",
   "execution_count": null,
   "metadata": {
    "id": "3omR4f90eaeE"
   },
   "outputs": [],
   "source": []
  },
  {
   "cell_type": "code",
   "execution_count": 31,
   "metadata": {
    "colab": {
     "base_uri": "https://localhost:8080/"
    },
    "id": "DhN9RQOpemOX",
    "outputId": "55677607-2aef-4ad3-fab1-3c3a251a82ca"
   },
   "outputs": [
    {
     "name": "stdout",
     "output_type": "stream",
     "text": [
      "dfbjsdhf\n",
      "sdhbfhjsd f\n",
      "sdhbfkhjsdbfsdj nfjsndlf\n"
     ]
    }
   ],
   "source": [
    "#Strings\n",
    "\n",
    "a = \"Hello\"\n",
    "a = \"\"\"dfbjsdhf\n",
    "sdhbfhjsd f\n",
    "sdhbfkhjsdbfsdj nfjsndlf\"\"\"\n",
    "print(a)"
   ]
  },
  {
   "cell_type": "code",
   "execution_count": 33,
   "metadata": {
    "colab": {
     "base_uri": "https://localhost:8080/"
    },
    "id": "orXwzFc9esyQ",
    "outputId": "6ed1e1a6-cb78-4b07-f7e3-0b33ef333f0c"
   },
   "outputs": [
    {
     "name": "stdout",
     "output_type": "stream",
     "text": [
      "d\n",
      "f\n",
      "b\n",
      "j\n",
      "s\n",
      "d\n",
      "h\n",
      "f\n",
      "\n",
      "\n",
      "s\n",
      "d\n",
      "h\n",
      "b\n",
      "f\n",
      "h\n",
      "j\n",
      "s\n",
      "d\n",
      " \n",
      "f\n",
      "\n",
      "\n",
      "s\n",
      "d\n",
      "h\n",
      "b\n",
      "f\n",
      "k\n",
      "h\n",
      "j\n",
      "s\n",
      "d\n",
      "b\n",
      "f\n",
      "s\n",
      "d\n",
      "j\n",
      " \n",
      "n\n",
      "f\n",
      "j\n",
      "s\n",
      "n\n",
      "d\n",
      "l\n",
      "f\n"
     ]
    }
   ],
   "source": [
    "for i in a:\n",
    "  print(i)"
   ]
  },
  {
   "cell_type": "code",
   "execution_count": 36,
   "metadata": {
    "colab": {
     "base_uri": "https://localhost:8080/"
    },
    "id": "XJQssX0yex4d",
    "outputId": "90bc4798-16db-4900-da73-c29dfd557fa0"
   },
   "outputs": [
    {
     "name": "stdout",
     "output_type": "stream",
     "text": [
      "dfbjsdhf\n",
      "sdhbfhjsd f\n",
      "sdhbfkhjsdbfsdj nfjsndlf\n"
     ]
    }
   ],
   "source": [
    "#slicing\n",
    "print(a)\n"
   ]
  },
  {
   "cell_type": "code",
   "execution_count": 37,
   "metadata": {
    "colab": {
     "base_uri": "https://localhost:8080/"
    },
    "id": "jjhuKD9lfAGF",
    "outputId": "eaf4fdbd-4a2d-42d4-d2f2-c8d49fcef8db"
   },
   "outputs": [
    {
     "name": "stdout",
     "output_type": "stream",
     "text": [
      "fbjsd\n"
     ]
    }
   ],
   "source": [
    "print(a[1:6])"
   ]
  },
  {
   "cell_type": "code",
   "execution_count": 38,
   "metadata": {
    "colab": {
     "base_uri": "https://localhost:8080/"
    },
    "id": "hhrdiSmkfKux",
    "outputId": "4b39214b-e01e-4b6a-80cd-9c88e4f71982"
   },
   "outputs": [
    {
     "name": "stdout",
     "output_type": "stream",
     "text": [
      "jsdhf\n",
      "sdhbfhjsd f\n",
      "sdhbfkhjsdbfsdj nfjsndlf\n"
     ]
    }
   ],
   "source": [
    "print(a[3:])"
   ]
  },
  {
   "cell_type": "code",
   "execution_count": 39,
   "metadata": {
    "colab": {
     "base_uri": "https://localhost:8080/"
    },
    "id": "PEiRw-J8fSu3",
    "outputId": "4cf14aa8-7461-4634-cd4f-d29c9d9c1c4e"
   },
   "outputs": [
    {
     "name": "stdout",
     "output_type": "stream",
     "text": [
      "dfb\n"
     ]
    }
   ],
   "source": [
    "print(a[:3])"
   ]
  },
  {
   "cell_type": "code",
   "execution_count": 41,
   "metadata": {
    "colab": {
     "base_uri": "https://localhost:8080/"
    },
    "id": "haSOxB5gfZUU",
    "outputId": "2f67f88c-5fe0-42e7-a29b-662170745a2d"
   },
   "outputs": [
    {
     "name": "stdout",
     "output_type": "stream",
     "text": [
      "hello world\n"
     ]
    }
   ],
   "source": [
    "# concat\n",
    "a = \"hello\"\n",
    "b = \"world\"\n",
    "\n",
    "c = a + \" \" + b\n",
    "print(c)"
   ]
  },
  {
   "cell_type": "code",
   "execution_count": 42,
   "metadata": {
    "colab": {
     "base_uri": "https://localhost:8080/"
    },
    "id": "I1imimcRfmac",
    "outputId": "62adcac9-6902-4549-f1f0-485c547203d4"
   },
   "outputs": [
    {
     "name": "stdout",
     "output_type": "stream",
     "text": [
      "{'hello': [4, 7, 9], 'world': [2, 3, 4]}\n"
     ]
    }
   ],
   "source": [
    "# dictionary - key, value\n",
    "\n",
    "a = {\n",
    "    \"hello\" : [4, 7, 9],\n",
    "    \"world\" : [2, 3, 4]\n",
    "}\n",
    "\n",
    "print(a)\n",
    "\n",
    "\n"
   ]
  },
  {
   "cell_type": "code",
   "execution_count": 44,
   "metadata": {
    "colab": {
     "base_uri": "https://localhost:8080/"
    },
    "id": "WAHmDQ4agjOm",
    "outputId": "c906c947-da7d-4d90-c18c-ddae7612a934"
   },
   "outputs": [
    {
     "name": "stdout",
     "output_type": "stream",
     "text": [
      "[4, 7, 9]\n"
     ]
    }
   ],
   "source": [
    "print(a[\"hello\"])"
   ]
  },
  {
   "cell_type": "code",
   "execution_count": null,
   "metadata": {
    "id": "YmuDhZD-gub4"
   },
   "outputs": [],
   "source": []
  },
  {
   "cell_type": "markdown",
   "metadata": {
    "id": "gcHzAJw9g1ot"
   },
   "source": [
    "### Functions"
   ]
  },
  {
   "cell_type": "code",
   "execution_count": 50,
   "metadata": {
    "id": "oq8BR9iBg2wY"
   },
   "outputs": [],
   "source": [
    "def calc(a, b, op='add'):\n",
    "  if op == 'add':\n",
    "    output = a + b\n",
    "  else:\n",
    "    output = \"invalid\"\n",
    "  return output"
   ]
  },
  {
   "cell_type": "code",
   "execution_count": 48,
   "metadata": {
    "colab": {
     "base_uri": "https://localhost:8080/"
    },
    "id": "5wocNSM_hSx8",
    "outputId": "219765f5-0b90-4192-b740-08c3e06f7986"
   },
   "outputs": [
    {
     "data": {
      "text/plain": [
       "5"
      ]
     },
     "execution_count": 48,
     "metadata": {},
     "output_type": "execute_result"
    }
   ],
   "source": [
    "calc(2, 3, 'add')"
   ]
  },
  {
   "cell_type": "code",
   "execution_count": 52,
   "metadata": {
    "colab": {
     "base_uri": "https://localhost:8080/",
     "height": 35
    },
    "id": "Xkion6tBhmdx",
    "outputId": "c7eb2eae-cfc2-469a-af5f-bdefc092b0f4"
   },
   "outputs": [
    {
     "data": {
      "application/vnd.google.colaboratory.intrinsic+json": {
       "type": "string"
      },
      "text/plain": [
       "'invalid'"
      ]
     },
     "execution_count": 52,
     "metadata": {},
     "output_type": "execute_result"
    }
   ],
   "source": [
    "calc(212, 23, 'mul')"
   ]
  },
  {
   "cell_type": "code",
   "execution_count": 54,
   "metadata": {
    "id": "GhSeu41rhorR"
   },
   "outputs": [],
   "source": [
    "def add(a, b, c):\n",
    "  pass"
   ]
  },
  {
   "cell_type": "code",
   "execution_count": null,
   "metadata": {
    "id": "5DnewLdviCee"
   },
   "outputs": [],
   "source": []
  },
  {
   "cell_type": "markdown",
   "metadata": {
    "id": "zIufWUbIiNk2"
   },
   "source": [
    "### Modules"
   ]
  },
  {
   "cell_type": "code",
   "execution_count": 57,
   "metadata": {
    "id": "lsGZwowgiP3H"
   },
   "outputs": [],
   "source": [
    "import numpy as np\n",
    "import matplotlib.pyplot as plt"
   ]
  },
  {
   "cell_type": "code",
   "execution_count": 58,
   "metadata": {
    "colab": {
     "base_uri": "https://localhost:8080/",
     "height": 430
    },
    "id": "p0okwhoJijqg",
    "outputId": "7d65660f-edce-4995-8297-a6a01a9c1af4"
   },
   "outputs": [
    {
     "data": {
      "image/png": "[encoded data removed]",
      "text/plain": [
       "<Figure size 640x480 with 2 Axes>"
      ]
     },
     "metadata": {},
     "output_type": "display_data"
    }
   ],
   "source": [
    "x = np.array([0, 2, 4])\n",
    "y = np.array([4, 7, 9])\n",
    "plt.subplot(1, 2, 1)\n",
    "plt.plot(x, y)\n",
    "\n",
    "x = np.array([4, 21, 13])\n",
    "y = np.array([2, 4, -1])\n",
    "plt.subplot(1, 2, 2)\n",
    "plt.plot(x, y)\n",
    "\n",
    "plt.show()"
   ]
  },
  {
   "cell_type": "code",
   "execution_count": null,
   "metadata": {
    "id": "2cWGutojjoHU"
   },
   "outputs": [],
   "source": []
  }
 ],
 "metadata": {
  "colab": {
   "provenance": []
  },
  "kernelspec": {
   "display_name": "Python 3 (ipykernel)",
   "language": "python",
   "name": "python3"
  },
  "language_info": {
   "codemirror_mode": {
    "name": "ipython",
    "version": 3
   },
   "file_extension": ".py",
   "mimetype": "text/x-python",
   "name": "python",
   "nbconvert_exporter": "python",
   "pygments_lexer": "ipython3",
   "version": "3.11.5"
  }
 },
 "nbformat": 4,
 "nbformat_minor": 1
}
